{
 "cells": [
  {
   "cell_type": "markdown",
   "id": "dc6c8ffe-3842-420b-9a47-d84f4cdb0528",
   "metadata": {},
   "source": [
    "# Python Basics Variable"
   ]
  },
  {
   "cell_type": "markdown",
   "id": "b70a0c45-e35d-4578-b1af-6a67df7435e4",
   "metadata": {
    "jp-MarkdownHeadingCollapsed": true
   },
   "source": [
    "# Code:1"
   ]
  },
  {
   "cell_type": "markdown",
   "id": "20a51280-31e3-412d-bdd0-8cbc287ca7ba",
   "metadata": {},
   "source": [
    "### Declare two variables, 'x' and 'y', and assign them integer values. Swap the values of these variables without using any temporary variable."
   ]
  },
  {
   "cell_type": "code",
   "execution_count": 1,
   "id": "20538b27-8c78-4431-8eb7-ded8c6dff33a",
   "metadata": {},
   "outputs": [],
   "source": [
    "x = 35\n",
    "y = 46"
   ]
  },
  {
   "cell_type": "code",
   "execution_count": 2,
   "id": "a7508ad1-27a9-446a-bd40-56f48d2c840a",
   "metadata": {},
   "outputs": [],
   "source": [
    "# Perfroming XOR operation with x and y variables\n",
    "x = x ^ y  \n",
    "y = x ^ y\n",
    "x = x ^ y"
   ]
  },
  {
   "cell_type": "markdown",
   "id": "8b7fa582-eb4c-4570-9945-803d3bca7bf0",
   "metadata": {},
   "source": [
    "### the XOR operation performs the swap Operation \n",
    "#### x = 35 and y = 46\n",
    "##### binary values of x and y are 100011 and 101110 = 001101 i.e now x = 13 in decimal \n",
    "##### binary values of x and y are 001101 and 101110 = 100011 i.e now y = 35 in decimal\n",
    "##### binary values of x and y are 001101 and 100011 = 101110 i.e now x = 46 in decimal"
   ]
  },
  {
   "cell_type": "code",
   "execution_count": 11,
   "id": "5a111139-1629-4375-8eb7-6db7a6cad12e",
   "metadata": {},
   "outputs": [
    {
     "name": "stdout",
     "output_type": "stream",
     "text": [
      "x: 46 y: 35\n"
     ]
    }
   ],
   "source": [
    "print('x:',x,'y:',y) # print function prints the information in ( )"
   ]
  },
  {
   "cell_type": "markdown",
   "id": "82e2fa64-6450-4435-b917-007db490605c",
   "metadata": {},
   "source": [
    "#### output\n",
    "\n",
    "###### Now the value after swapping is x = 46\n",
    "\n",
    "###### Now the value after swapping is y = 35"
   ]
  },
  {
   "cell_type": "code",
   "execution_count": null,
   "id": "25ea3577-815b-46f2-a77a-2489a050741a",
   "metadata": {},
   "outputs": [],
   "source": []
  },
  {
   "cell_type": "code",
   "execution_count": null,
   "id": "141e9256-da3a-4a41-afc1-b38eab83782c",
   "metadata": {},
   "outputs": [],
   "source": []
  },
  {
   "cell_type": "markdown",
   "id": "e0dc091f-1849-4391-b762-d29f2b929165",
   "metadata": {
    "jp-MarkdownHeadingCollapsed": true
   },
   "source": [
    "# Code:2"
   ]
  },
  {
   "cell_type": "markdown",
   "id": "2581d4fd-8c8f-41a9-bbef-b61a916e1e32",
   "metadata": {},
   "source": [
    "## Create a program that calculates the area of a rectangle. Take the length and width as input from the user and store them in variables. Calculate and display the area."
   ]
  },
  {
   "cell_type": "code",
   "execution_count": 4,
   "id": "885e3218-af89-4001-9603-c3f7b0761f0a",
   "metadata": {},
   "outputs": [
    {
     "name": "stdin",
     "output_type": "stream",
     "text": [
      "enter the base:  35\n",
      "enter the height:  46\n"
     ]
    }
   ],
   "source": [
    "base = float(input(\"enter the base: \"))        # Enter the Base value\n",
    "height = float(input(\"enter the height: \"))    # Enter the height value"
   ]
  },
  {
   "cell_type": "code",
   "execution_count": 12,
   "id": "a691ceda-bcd7-461a-b2b4-213307dd4985",
   "metadata": {},
   "outputs": [],
   "source": [
    "area_traingle = 0.5 * base * height            # Area of a Triangle = (1/2)*b*h    i.e b = base   and h = height"
   ]
  },
  {
   "cell_type": "code",
   "execution_count": 7,
   "id": "03678f3c-7dca-4555-bb0d-41da57241c96",
   "metadata": {},
   "outputs": [
    {
     "name": "stdout",
     "output_type": "stream",
     "text": [
      "Area of Triangle is:805.0\n"
     ]
    }
   ],
   "source": [
    "print(f\"Area of Triangle is:{area_traingle}\")  # print function prints the information in ( )"
   ]
  },
  {
   "cell_type": "markdown",
   "id": "66300186-3759-4ff2-ace0-af05b9280356",
   "metadata": {},
   "source": [
    "#### Output\n",
    "\n",
    "##### Area of Triangle is: 805.0"
   ]
  },
  {
   "cell_type": "code",
   "execution_count": null,
   "id": "3b785ee4-37b1-4af1-aea8-65ad8ea97d06",
   "metadata": {},
   "outputs": [],
   "source": []
  },
  {
   "cell_type": "code",
   "execution_count": null,
   "id": "4594dea6-7b1d-49fc-b5c9-2f369afac5c8",
   "metadata": {},
   "outputs": [],
   "source": []
  },
  {
   "cell_type": "markdown",
   "id": "8adeb33e-8093-4375-b9ac-a9eae071d6e7",
   "metadata": {
    "jp-MarkdownHeadingCollapsed": true
   },
   "source": [
    "# Code:3"
   ]
  },
  {
   "cell_type": "markdown",
   "id": "c8414441-9650-4445-b3b5-dcef2fec6cda",
   "metadata": {},
   "source": [
    "### Write a python program that converts temperatures from Celsius to Fahrenheit. Take the temperature in Celsius as input, store as input, store it in a variable, convert it to Fahrenheit, and display the result."
   ]
  },
  {
   "cell_type": "code",
   "execution_count": 13,
   "id": "81b4920d-8ea6-4036-b209-a920ecb64d26",
   "metadata": {},
   "outputs": [
    {
     "name": "stdin",
     "output_type": "stream",
     "text": [
      "Enter the Temperature in Celsius:  36\n"
     ]
    }
   ],
   "source": [
    "celsius = int(input(\"Enter the Temperature in Celsius: \"))   # Enter the temp in celsius\n",
    "fahrenheit = celsius * (9/5) + 32                            # converting fahrenheit to celsius "
   ]
  },
  {
   "cell_type": "markdown",
   "id": "7e384fde-4058-455f-9dcd-b15ce62da96e",
   "metadata": {},
   "source": [
    "### formula for converting celsius to fahrenheit is:\n",
    "#### f = (c * (9/5) )+ 32\n",
    "\n",
    "### Similarly for converting fahrenheit to celsius is:\n",
    "#### c = (f - 32)* (9/5)"
   ]
  },
  {
   "cell_type": "code",
   "execution_count": 10,
   "id": "1722f116-2477-4b3b-b620-cc5a521e5d4c",
   "metadata": {},
   "outputs": [
    {
     "name": "stdout",
     "output_type": "stream",
     "text": [
      "The Temperatur in fahrenhiet: 96.8\n"
     ]
    }
   ],
   "source": [
    "print(\"The Temperatur in fahrenhiet:\",fahrenheit)             # print function prints the information in ( )"
   ]
  },
  {
   "cell_type": "markdown",
   "id": "6e3c2336-8d28-4f5e-8abb-8a80a4fc6093",
   "metadata": {},
   "source": [
    "### Output\n",
    "\n",
    "#### The Temperature after converting from celsius to fahrenheit is : 96.8"
   ]
  },
  {
   "cell_type": "code",
   "execution_count": null,
   "id": "f9a620da-e1c0-4107-8446-1afab0616a2f",
   "metadata": {},
   "outputs": [],
   "source": []
  },
  {
   "cell_type": "code",
   "execution_count": null,
   "id": "d70a2cd5-5e23-4aac-a875-2d7fdf817b2d",
   "metadata": {},
   "outputs": [],
   "source": []
  },
  {
   "cell_type": "markdown",
   "id": "18609a38-8d25-4c2a-9f0b-8d6a86c07832",
   "metadata": {},
   "source": [
    "# String Based Question"
   ]
  },
  {
   "cell_type": "markdown",
   "id": "8a7bc7a0-026e-485d-b29b-9d788d9defe5",
   "metadata": {
    "jp-MarkdownHeadingCollapsed": true
   },
   "source": [
    "## Program:1"
   ]
  },
  {
   "cell_type": "markdown",
   "id": "b745c58f-be2f-49a6-826e-6687166f9e9f",
   "metadata": {},
   "source": [
    "### Write a python program that takes string as input and prints the length of the string."
   ]
  },
  {
   "cell_type": "code",
   "execution_count": 27,
   "id": "f2385d1a-ab22-4bf8-b673-392b30985de5",
   "metadata": {},
   "outputs": [
    {
     "name": "stdin",
     "output_type": "stream",
     "text": [
      "Enter a string:  My name is Mohammed Suleman, My Aim is to be a valuable Data Scientist\n"
     ]
    }
   ],
   "source": [
    "string_1 = input(\"Enter a string: \")   # Enter a sting\n",
    "length_string1 = len(string_1)         # len() function is used in find the length of the string"
   ]
  },
  {
   "cell_type": "markdown",
   "id": "c396a2a5-9957-41c3-ae38-6b36a023e130",
   "metadata": {},
   "source": [
    "#### The below string contains of about 70 words including spaces, commas\n",
    "#### My name is Mohammed Suleman, My Aim is to be a valuable Data Scientist"
   ]
  },
  {
   "cell_type": "code",
   "execution_count": 28,
   "id": "54b0746d-4c7f-4da3-a663-8a0e6721d000",
   "metadata": {},
   "outputs": [
    {
     "name": "stdout",
     "output_type": "stream",
     "text": [
      "70\n"
     ]
    }
   ],
   "source": [
    "print(length_string1)                  # print function prints the information in ( )"
   ]
  },
  {
   "cell_type": "markdown",
   "id": "5bdbeca8-2062-4ac7-ab94-ec7902596edd",
   "metadata": {},
   "source": [
    "### Output\n",
    "#### The length of {My name is Mohammed Suleman, My Aim is to be a valuable Data Scientist} is: 70"
   ]
  },
  {
   "cell_type": "code",
   "execution_count": null,
   "id": "38e8d0e4-e32e-4eae-959a-d9639c7123d2",
   "metadata": {},
   "outputs": [],
   "source": []
  },
  {
   "cell_type": "code",
   "execution_count": null,
   "id": "551343d7-1e9b-4aac-b9ed-7bb7fd5da85e",
   "metadata": {},
   "outputs": [],
   "source": []
  },
  {
   "cell_type": "markdown",
   "id": "f09ba89d-a539-4062-8bb7-22c3ae3002cd",
   "metadata": {
    "jp-MarkdownHeadingCollapsed": true
   },
   "source": [
    "## Program:2"
   ]
  },
  {
   "cell_type": "markdown",
   "id": "c5dbd9d8-84f8-47bc-9035-a3923765314e",
   "metadata": {},
   "source": [
    "### create a program that takes a sentence form user and counts the number of vowels (a, e, i, o, u) in the string."
   ]
  },
  {
   "cell_type": "code",
   "execution_count": 72,
   "id": "5bfea922-5868-4842-a42a-849554416984",
   "metadata": {},
   "outputs": [
    {
     "name": "stdin",
     "output_type": "stream",
     "text": [
      "Enter a sentence:  tsitneicS ataD\n"
     ]
    }
   ],
   "source": [
    "string_vowel = input(\"Enter a sentence: \").lower()   # enter a sentence:  lower() function is used to fetch the Upper Case letters from the sentence\n",
    "vowel_count = 0                                      # keeping the vowel count 0 \n",
    "vowels = ['a','e','i','o','u']                       # vowels to count from a sentence: {a ,e, i, o, u}"
   ]
  },
  {
   "cell_type": "code",
   "execution_count": 73,
   "id": "6d160f8d-c6d8-41e7-9b4c-0f444b44dd2c",
   "metadata": {},
   "outputs": [],
   "source": [
    "for char  in string_vowel:\n",
    "    if char in vowels:\n",
    "        vowel_count += 1"
   ]
  },
  {
   "cell_type": "markdown",
   "id": "e93c36d3-5171-4df0-b1be-f3ae88656599",
   "metadata": {},
   "source": [
    "#### for char in string_vowels:\n",
    "* for loop is used to check on each character in the string_vowels in lowercase\n",
    "#### for char in vowels:\n",
    "* checks the character from the input sentence whether contains a vowels = ['a','e','i','o','u']\n",
    "* if vowel found in character the condition becomes 'True' and the code inside the if block will be executed\n",
    "* if the condition is 'True' the \"vowel_count += 1\" increments the value of \"string_vowel\" variable by 1"
   ]
  },
  {
   "cell_type": "code",
   "execution_count": 74,
   "id": "e80c2dfa-a263-44f1-ab56-d605fdb03f02",
   "metadata": {},
   "outputs": [
    {
     "name": "stdout",
     "output_type": "stream",
     "text": [
      "Number of Vowels in the sentence:  5\n"
     ]
    }
   ],
   "source": [
    "print(\"Number of Vowels in the sentence: \",vowel_count) # print function prints the information in ( )"
   ]
  },
  {
   "cell_type": "markdown",
   "id": "b93ae81a-cb4b-42ad-ba6f-7d2e4264599e",
   "metadata": {},
   "source": [
    "### Output\n",
    "#### From the sentence: My name is Mohammed Suleman, My Aim is to be a valuable Data Scientist\n",
    "#### Number of Vowels in the sentence:  24"
   ]
  },
  {
   "cell_type": "code",
   "execution_count": null,
   "id": "144957db-6ea8-4950-917f-6cfd82e14d12",
   "metadata": {},
   "outputs": [],
   "source": []
  },
  {
   "cell_type": "code",
   "execution_count": null,
   "id": "2f08b6dc-8962-4333-912f-266e9e91e24d",
   "metadata": {},
   "outputs": [],
   "source": []
  },
  {
   "cell_type": "markdown",
   "id": "acd403a9-fce6-4993-afed-0b881b548ee8",
   "metadata": {
    "jp-MarkdownHeadingCollapsed": true
   },
   "source": [
    "## Program:3"
   ]
  },
  {
   "cell_type": "markdown",
   "id": "09477fcc-0f88-4e25-bc17-c883bfce0fcb",
   "metadata": {},
   "source": [
    "### Given a string, reverse the order of the characters using slicing and print the revresed string."
   ]
  },
  {
   "cell_type": "code",
   "execution_count": 58,
   "id": "32d0cddf-0911-4b26-bc46-2f2b9410ae3a",
   "metadata": {},
   "outputs": [],
   "source": [
    "string_0 = (\"Data Scientist\")         # sample string"
   ]
  },
  {
   "cell_type": "code",
   "execution_count": 70,
   "id": "b7f4bf43-49c7-43e7-86ce-d33452521cfb",
   "metadata": {},
   "outputs": [],
   "source": [
    "reversed_string = string_0[::-1]      # slicing and scaling operation is performend"
   ]
  },
  {
   "cell_type": "markdown",
   "id": "a638b648-de6e-4df5-a71f-134a4d25aa82",
   "metadata": {},
   "source": [
    "#### slicing is done by the [start index, end index, step index]\n",
    "\n",
    "#### scaling is done by the [start index, end index, step index]\n",
    "* example: for negative index [-1:0:-1] this takes a step by -1"
   ]
  },
  {
   "cell_type": "code",
   "execution_count": 71,
   "id": "acbe10a4-e33b-4b3e-8993-dd98c5242cf5",
   "metadata": {},
   "outputs": [
    {
     "name": "stdout",
     "output_type": "stream",
     "text": [
      "tsitneicS ataD \n"
     ]
    }
   ],
   "source": [
    "print(reversed_string)                # print function prints the information in ( )"
   ]
  },
  {
   "cell_type": "markdown",
   "id": "92efd9b4-9dab-4d10-949d-44059f3e1c7d",
   "metadata": {},
   "source": [
    "### Output\n",
    "#### The reversed_string for \"Data Scientist\" is \"tsitneicS ataD\""
   ]
  },
  {
   "cell_type": "code",
   "execution_count": null,
   "id": "2e253246-2d12-47c4-8a65-f470bb073253",
   "metadata": {},
   "outputs": [],
   "source": []
  },
  {
   "cell_type": "code",
   "execution_count": null,
   "id": "dbb5bfd2-4e77-4f27-80b7-748e051eab9f",
   "metadata": {},
   "outputs": [],
   "source": []
  },
  {
   "cell_type": "markdown",
   "id": "08e494f5-dffc-44f5-9b2b-6ede7aecb751",
   "metadata": {
    "jp-MarkdownHeadingCollapsed": true
   },
   "source": [
    "## Program:4"
   ]
  },
  {
   "cell_type": "markdown",
   "id": "d0459cf5-0149-43f0-b457-8b2273173c68",
   "metadata": {},
   "source": [
    "### Write a program that takes a string as input and cheks of it is a Palindrome(reads the same forwards and backwards)"
   ]
  },
  {
   "cell_type": "code",
   "execution_count": 82,
   "id": "14bbee9f-7333-475c-983d-bc260abdd896",
   "metadata": {},
   "outputs": [
    {
     "name": "stdin",
     "output_type": "stream",
     "text": [
      "Enter a string racecar\n"
     ]
    }
   ],
   "source": [
    "string_a = input(\"Enter a string\")                 # Enter a string as a input\n",
    "string_out = string_a.lower().replace(\" \", \"\")     # string_a.lower().replace(\" \",\"\") stores the updated string in string_out"
   ]
  },
  {
   "cell_type": "markdown",
   "id": "7230bb06-0e9b-46f0-9527-019997a126e3",
   "metadata": {},
   "source": [
    "#### string_a.lower().replace(\" \",\" \")  \n",
    "* .lower() is used to include Uppercase letters from the string or characters or sentence\n",
    "* .replace is used to remove spaces from the string or characters or sentence"
   ]
  },
  {
   "cell_type": "code",
   "execution_count": 83,
   "id": "f7cf7241-4ea3-4028-be26-263851697ac2",
   "metadata": {},
   "outputs": [
    {
     "name": "stdout",
     "output_type": "stream",
     "text": [
      "The given string is a Palindrome\n"
     ]
    }
   ],
   "source": [
    "if string_out == string_out[::-1]:\n",
    "    print(\"The given string is a Palindrome\")\n",
    "else:\n",
    "    print(\"The given string is not a Palindrome\")"
   ]
  },
  {
   "cell_type": "markdown",
   "id": "1325be11-3499-4df8-8de0-7d6f97ba9e80",
   "metadata": {},
   "source": [
    "#### conditional statements is used to checks the conditions in both forward and reverse \n",
    "* if string_out is equals to string_out[::-1], then the print function prints the if statement\n",
    "  * string_out[::-1] -- negative scaling is done to reverse the string from negative indexes by a step of -1\n",
    "* if string_out is not equals to string_out[::-1], then the print function prints the else statement"
   ]
  },
  {
   "cell_type": "markdown",
   "id": "a871e465-a971-4e34-b755-0a0f9a2aa778",
   "metadata": {},
   "source": [
    "### Output\n",
    "####  example for a palindrome:\n",
    "##### input(\"A man a plan a canal panama\")\n",
    "    * The given string is a Palindrome \n",
    "\n",
    "#### example for not a palindrome\n",
    "##### input(\"few examples are better then one best\")\n",
    "    * The given string is not a Plaindrome"
   ]
  },
  {
   "cell_type": "code",
   "execution_count": null,
   "id": "e8a75408-7790-44f4-9a05-2f0a18fbf7be",
   "metadata": {},
   "outputs": [],
   "source": []
  },
  {
   "cell_type": "code",
   "execution_count": null,
   "id": "57ed525b-573a-47ab-a9e0-7bc1c9b417fe",
   "metadata": {},
   "outputs": [],
   "source": []
  },
  {
   "cell_type": "markdown",
   "id": "e3c72bf1-a7d3-4b49-b985-9cf42a0e818a",
   "metadata": {},
   "source": [
    "## Program:5"
   ]
  },
  {
   "cell_type": "markdown",
   "id": "2671988c-38b2-4738-bc30-c4a383a4206f",
   "metadata": {},
   "source": [
    "### Create a program that takes a string as input and removes all the spaces from it. print the modified string without spaces."
   ]
  },
  {
   "cell_type": "code",
   "execution_count": 108,
   "id": "6717076d-c799-4408-955d-5430b8e80f33",
   "metadata": {},
   "outputs": [
    {
     "name": "stdin",
     "output_type": "stream",
     "text": [
      "Enter a string the apple is red an it keeps doctor a w ay\n"
     ]
    }
   ],
   "source": [
    "string_b = input(\"Enter a string\")\n",
    "string_c = string_b.replace(\" \",\"\")                    "
   ]
  },
  {
   "cell_type": "markdown",
   "id": "ea90a9fe-f56e-42bd-8afc-965a95e8aad3",
   "metadata": {},
   "source": [
    "#### string_b.replace() funtion is used to replce the parameters from one form to another\n",
    "     * in this case we have replce the parameters from space to no space\n",
    "            * replace(\" \",\"\") --- we removed the space from \" \" with no space \"\",  this removes the space from the string\n",
    "            * We can use other parametrs to add any other character, white spaces, special character with the .replace() function\n"
   ]
  },
  {
   "cell_type": "code",
   "execution_count": 111,
   "id": "5c4fa4f5-ad50-4153-aa6c-394842013584",
   "metadata": {},
   "outputs": [
    {
     "name": "stdout",
     "output_type": "stream",
     "text": [
      "updated string_b-the apple is red an it keeps doctor a w ay,is: theappleisredanitkeepsdoctoraway\n"
     ]
    }
   ],
   "source": [
    "print(f\"updated string_b-{string_b},is: {string_c}\")"
   ]
  },
  {
   "cell_type": "markdown",
   "id": "4d6bf8bc-5dbc-49ae-b2a1-05acf3062c1b",
   "metadata": {},
   "source": [
    "### Output\n",
    "#### input(\" the apple is red      an it keeps      doctor a w   ay\")\n",
    "      * 'theappleisredanitkeepsdoctoraway'"
   ]
  },
  {
   "cell_type": "code",
   "execution_count": null,
   "id": "cc6ff94d-ca38-4243-a95a-8ecd2325e29e",
   "metadata": {},
   "outputs": [],
   "source": []
  },
  {
   "cell_type": "code",
   "execution_count": null,
   "id": "66e6aa90-0755-4497-bb66-dd0def3d2f16",
   "metadata": {},
   "outputs": [],
   "source": []
  }
 ],
 "metadata": {
  "kernelspec": {
   "display_name": "Python 3 (ipykernel)",
   "language": "python",
   "name": "python3"
  },
  "language_info": {
   "codemirror_mode": {
    "name": "ipython",
    "version": 3
   },
   "file_extension": ".py",
   "mimetype": "text/x-python",
   "name": "python",
   "nbconvert_exporter": "python",
   "pygments_lexer": "ipython3",
   "version": "3.11.4"
  }
 },
 "nbformat": 4,
 "nbformat_minor": 5
}
